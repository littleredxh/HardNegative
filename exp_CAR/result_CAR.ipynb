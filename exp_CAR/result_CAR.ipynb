{
 "cells": [
  {
   "cell_type": "code",
   "execution_count": 1,
   "metadata": {},
   "outputs": [],
   "source": [
    "import matplotlib.pylab as plt\n",
    "from tensorboard.backend.event_processing.event_accumulator import EventAccumulator\n",
    "from glob import glob\n",
    "import torch"
   ]
  },
  {
   "cell_type": "markdown",
   "metadata": {},
   "source": [
    "# CAR Result"
   ]
  },
  {
   "cell_type": "code",
   "execution_count": 2,
   "metadata": {},
   "outputs": [
    {
     "name": "stdout",
     "output_type": "stream",
     "text": [
      "0.6792522668838501 0.004978266544640064\n",
      "0.7780839204788208 0.0039130039513111115\n",
      "0.8531054258346558 0.0018684191163629293\n",
      "0.9069487452507019 0.0014410907169803977\n"
     ]
    }
   ],
   "source": [
    "for lr in [0.004]:\n",
    "    A1, A2, A4, A8 = [], [], [], []\n",
    "    for i in range(5):\n",
    "        path = '_result/CAR_R50/shn_B128_R1_D64_lr{}_lam1.0/{}/events*'.format(lr,i)\n",
    "        for f in glob(path):\n",
    "            event_acc = EventAccumulator(f)\n",
    "            event_acc.Reload()\n",
    "            _, _, acc = zip(*event_acc.Scalars('CAR_test_R_1'))\n",
    "            A1.append(acc[-1])\n",
    "            _, _, acc = zip(*event_acc.Scalars('CAR_test_R_2'))\n",
    "            A2.append(acc[-1])\n",
    "            _, _, acc = zip(*event_acc.Scalars('CAR_test_R_4'))\n",
    "            A4.append(acc[-1])\n",
    "            _, _, acc = zip(*event_acc.Scalars('CAR_test_R_8'))\n",
    "            A8.append(acc[-1])\n",
    "\n",
    "    print(torch.Tensor(A1).mean().item(), torch.Tensor(A1).std().item())\n",
    "    print(torch.Tensor(A2).mean().item(), torch.Tensor(A2).std().item())\n",
    "    print(torch.Tensor(A4).mean().item(), torch.Tensor(A4).std().item())\n",
    "    print(torch.Tensor(A8).mean().item(), torch.Tensor(A8).std().item())"
   ]
  },
  {
   "cell_type": "code",
   "execution_count": 3,
   "metadata": {},
   "outputs": [
    {
     "name": "stdout",
     "output_type": "stream",
     "text": [
      "0.7335383296012878 0.005377480294555426\n",
      "0.8198253512382507 0.0025204576086252928\n",
      "0.8802115321159363 0.0017991183558478951\n",
      "0.923625648021698 0.002639175858348608\n"
     ]
    }
   ],
   "source": [
    "for lr in [0.02]:\n",
    "    A1, A2, A4, A8 = [], [], [], []\n",
    "    for i in range(5):\n",
    "        path = '_result/CAR_R50/sct_B128_R1_D64_lr{}_lam1.0/{}/events*'.format(lr,i)\n",
    "        for f in glob(path):\n",
    "            event_acc = EventAccumulator(f)\n",
    "            event_acc.Reload()\n",
    "            _, _, acc = zip(*event_acc.Scalars('CAR_test_R_1'))\n",
    "            A1.append(acc[-1])\n",
    "            _, _, acc = zip(*event_acc.Scalars('CAR_test_R_2'))\n",
    "            A2.append(acc[-1])\n",
    "            _, _, acc = zip(*event_acc.Scalars('CAR_test_R_4'))\n",
    "            A4.append(acc[-1])\n",
    "            _, _, acc = zip(*event_acc.Scalars('CAR_test_R_8'))\n",
    "            A8.append(acc[-1])\n",
    "    \n",
    "    print(torch.Tensor(A1).mean().item(), torch.Tensor(A1).std().item())\n",
    "    print(torch.Tensor(A2).mean().item(), torch.Tensor(A2).std().item())\n",
    "    print(torch.Tensor(A4).mean().item(), torch.Tensor(A4).std().item())\n",
    "    print(torch.Tensor(A8).mean().item(), torch.Tensor(A8).std().item())"
   ]
  }
 ],
 "metadata": {
  "kernelspec": {
   "display_name": "Python 3",
   "language": "python",
   "name": "python3"
  },
  "language_info": {
   "codemirror_mode": {
    "name": "ipython",
    "version": 3
   },
   "file_extension": ".py",
   "mimetype": "text/x-python",
   "name": "python",
   "nbconvert_exporter": "python",
   "pygments_lexer": "ipython3",
   "version": "3.7.3"
  }
 },
 "nbformat": 4,
 "nbformat_minor": 2
}
