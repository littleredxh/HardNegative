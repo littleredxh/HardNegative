{
 "cells": [
  {
   "cell_type": "code",
   "execution_count": 1,
   "metadata": {},
   "outputs": [],
   "source": [
    "import matplotlib.pylab as plt\n",
    "from tensorboard.backend.event_processing.event_accumulator import EventAccumulator\n",
    "from glob import glob\n",
    "import torch"
   ]
  },
  {
   "cell_type": "markdown",
   "metadata": {},
   "source": [
    "# CUB Result"
   ]
  },
  {
   "cell_type": "code",
   "execution_count": 2,
   "metadata": {},
   "outputs": [
    {
     "name": "stdout",
     "output_type": "stream",
     "text": [
      "0.5674206614494324 0.005658868700265884\n",
      "0.6863943338394165 0.002838223008438945\n",
      "0.7866643667221069 0.0025860874447971582\n",
      "0.8662053346633911 0.0023194425739347935\n"
     ]
    }
   ],
   "source": [
    "for lr in [0.002]:\n",
    "    A1, A2, A4, A8 = [], [], [], []\n",
    "    for i in range(5):\n",
    "        path = '_result/CUB_R50/shn_B128_R1_D64_lr{}_lam1.0/{}/events*'.format(lr,i)\n",
    "        for f in glob(path):\n",
    "            event_acc = EventAccumulator(f)\n",
    "            event_acc.Reload()\n",
    "            _, _, acc = zip(*event_acc.Scalars('CUB_test_R_1'))\n",
    "            A1.append(acc[-1])\n",
    "            _, _, acc = zip(*event_acc.Scalars('CUB_test_R_2'))\n",
    "            A2.append(acc[-1])\n",
    "            _, _, acc = zip(*event_acc.Scalars('CUB_test_R_4'))\n",
    "            A4.append(acc[-1])\n",
    "            _, _, acc = zip(*event_acc.Scalars('CUB_test_R_8'))\n",
    "            A8.append(acc[-1])\n",
    "\n",
    "    print(torch.Tensor(A1).mean().item(), torch.Tensor(A1).std().item())\n",
    "    print(torch.Tensor(A2).mean().item(), torch.Tensor(A2).std().item())\n",
    "    print(torch.Tensor(A4).mean().item(), torch.Tensor(A4).std().item())\n",
    "    print(torch.Tensor(A8).mean().item(), torch.Tensor(A8).std().item())"
   ]
  },
  {
   "cell_type": "code",
   "execution_count": 3,
   "metadata": {},
   "outputs": [
    {
     "name": "stdout",
     "output_type": "stream",
     "text": [
      "0.5771101117134094 0.0074936808086931705\n",
      "0.698008120059967 0.004095045384019613\n",
      "0.7959486842155457 0.005755973048508167\n",
      "0.8705266714096069 0.0038419237826019526\n"
     ]
    }
   ],
   "source": [
    "for lr in [0.009]:\n",
    "    A1, A2, A4, A8 = [], [], [], []\n",
    "    for i in range(5):\n",
    "        path = '_result/CUB_R50/sct_B128_R1_D64_lr{}_lam1.0/{}/events*'.format(lr,i)\n",
    "        for f in glob(path):\n",
    "            event_acc = EventAccumulator(f)\n",
    "            event_acc.Reload()\n",
    "            _, _, acc = zip(*event_acc.Scalars('CUB_test_R_1'))\n",
    "            A1.append(acc[-1])\n",
    "            _, _, acc = zip(*event_acc.Scalars('CUB_test_R_2'))\n",
    "            A2.append(acc[-1])\n",
    "            _, _, acc = zip(*event_acc.Scalars('CUB_test_R_4'))\n",
    "            A4.append(acc[-1])\n",
    "            _, _, acc = zip(*event_acc.Scalars('CUB_test_R_8'))\n",
    "            A8.append(acc[-1])\n",
    "\n",
    "    print(torch.Tensor(A1).mean().item(), torch.Tensor(A1).std().item())\n",
    "    print(torch.Tensor(A2).mean().item(), torch.Tensor(A2).std().item())\n",
    "    print(torch.Tensor(A4).mean().item(), torch.Tensor(A4).std().item())\n",
    "    print(torch.Tensor(A8).mean().item(), torch.Tensor(A8).std().item())"
   ]
  }
 ],
 "metadata": {
  "kernelspec": {
   "display_name": "Python 3",
   "language": "python",
   "name": "python3"
  },
  "language_info": {
   "codemirror_mode": {
    "name": "ipython",
    "version": 3
   },
   "file_extension": ".py",
   "mimetype": "text/x-python",
   "name": "python",
   "nbconvert_exporter": "python",
   "pygments_lexer": "ipython3",
   "version": "3.7.3"
  }
 },
 "nbformat": 4,
 "nbformat_minor": 2
}
