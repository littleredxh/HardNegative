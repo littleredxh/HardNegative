{
 "cells": [
  {
   "cell_type": "code",
   "execution_count": 1,
   "metadata": {},
   "outputs": [],
   "source": [
    "import torch,os,csv\n",
    "import sys\n",
    "sys.path.append('evaluate/')\n",
    "from evaluate.retrieval import main\n",
    "import matplotlib.pylab as plt\n",
    "sys.path.append(\"..\")\n",
    "from _code.Reader import ImageReader\n",
    "\n",
    "data_dict = torch.load('data_dict_emb.pth')\n",
    "\n",
    "def Acc(eps, src):\n",
    "    acc = list()\n",
    "    for ep in eps:\n",
    "        print('epoch:'+str(ep))\n",
    "        valdset = ImageReader(data_dict['val']) \n",
    "        tradset = ImageReader(data_dict['tra']) \n",
    "        query_idx = torch.load(src+'{}pred_top100.pth'.format(ep))\n",
    "\n",
    "        test_id = [os.path.basename(valdset.imgs[i][0])[:-4] for i in range(len(valdset))]\n",
    "        result_id = [[os.path.basename(tradset.imgs[query_idx[i,j].item()][0])[:-4] for j in range(100)] for i in range(len(valdset))]\n",
    "\n",
    "        outfile = os.path.join(src,'hotel_results_ep'+str(ep)+'.csv')\n",
    "        with open(outfile,'w') as csv_file:\n",
    "            for idx in range(len(test_id)):\n",
    "                imId = test_id[idx]\n",
    "                result_im_ids = result_id[idx]\n",
    "                csv_line = str(imId) + ',' + ','.join([str(r) for r in result_im_ids]) +'\\n'\n",
    "                csv_file.writelines(csv_line)\n",
    "\n",
    "        acc.append(main(outfile))\n",
    "        \n",
    "    return acc"
   ]
  },
  {
   "cell_type": "code",
   "execution_count": 5,
   "metadata": {},
   "outputs": [
    {
     "name": "stdout",
     "output_type": "stream",
     "text": [
      "epoch:0\n",
      "Hotel instance retrieval accuracy for _result/HOTEL_R50/sct_B512_R5_D256_lr0.1_lam1.0/0/hotel_results_ep0.csv\n",
      "Top-1: 6.21\n",
      "Top-10: 11.78\n",
      "Top-100: 21.80\n",
      "---\n",
      "Hotel chain retrieval accuracy for _result/HOTEL_R50/sct_B512_R5_D256_lr0.1_lam1.0/0/hotel_results_ep0.csv\n",
      "Top-1: 25.35\n",
      "Top-3: 37.97\n",
      "Top-5: 44.45\n",
      "epoch:40\n",
      "Hotel instance retrieval accuracy for _result/HOTEL_R50/sct_B512_R5_D256_lr0.1_lam1.0/0/hotel_results_ep40.csv\n",
      "Top-1: 18.54\n",
      "Top-10: 30.66\n",
      "Top-100: 45.73\n",
      "---\n",
      "Hotel chain retrieval accuracy for _result/HOTEL_R50/sct_B512_R5_D256_lr0.1_lam1.0/0/hotel_results_ep40.csv\n",
      "Top-1: 47.24\n",
      "Top-3: 58.53\n",
      "Top-5: 63.69\n",
      "epoch:80\n",
      "Hotel instance retrieval accuracy for _result/HOTEL_R50/sct_B512_R5_D256_lr0.1_lam1.0/0/hotel_results_ep80.csv\n",
      "Top-1: 25.73\n",
      "Top-10: 39.80\n",
      "Top-100: 56.69\n",
      "---\n",
      "Hotel chain retrieval accuracy for _result/HOTEL_R50/sct_B512_R5_D256_lr0.1_lam1.0/0/hotel_results_ep80.csv\n",
      "Top-1: 55.81\n",
      "Top-3: 65.68\n",
      "Top-5: 70.20\n",
      "epoch:120\n",
      "Hotel instance retrieval accuracy for _result/HOTEL_R50/sct_B512_R5_D256_lr0.1_lam1.0/0/hotel_results_ep120.csv\n",
      "Top-1: 28.70\n",
      "Top-10: 43.71\n",
      "Top-100: 60.78\n",
      "---\n",
      "Hotel chain retrieval accuracy for _result/HOTEL_R50/sct_B512_R5_D256_lr0.1_lam1.0/0/hotel_results_ep120.csv\n",
      "Top-1: 60.04\n",
      "Top-3: 69.57\n",
      "Top-5: 73.50\n",
      "epoch:160\n",
      "Hotel instance retrieval accuracy for _result/HOTEL_R50/sct_B512_R5_D256_lr0.1_lam1.0/0/hotel_results_ep160.csv\n",
      "Top-1: 29.17\n",
      "Top-10: 44.33\n",
      "Top-100: 61.38\n",
      "---\n",
      "Hotel chain retrieval accuracy for _result/HOTEL_R50/sct_B512_R5_D256_lr0.1_lam1.0/0/hotel_results_ep160.csv\n",
      "Top-1: 60.67\n",
      "Top-3: 69.82\n",
      "Top-5: 73.91\n",
      "epoch:200\n",
      "Hotel instance retrieval accuracy for _result/HOTEL_R50/sct_B512_R5_D256_lr0.1_lam1.0/0/hotel_results_ep200.csv\n",
      "Top-1: 29.14\n",
      "Top-10: 44.45\n",
      "Top-100: 61.53\n",
      "---\n",
      "Hotel chain retrieval accuracy for _result/HOTEL_R50/sct_B512_R5_D256_lr0.1_lam1.0/0/hotel_results_ep200.csv\n",
      "Top-1: 60.90\n",
      "Top-3: 69.87\n",
      "Top-5: 74.10\n"
     ]
    },
    {
     "data": {
      "text/plain": [
       "[<matplotlib.lines.Line2D at 0x2aab476665f8>]"
      ]
     },
     "execution_count": 5,
     "metadata": {},
     "output_type": "execute_result"
    },
    {
     "data": {
      "image/png": "[encoded data removed]",
      "text/plain": [
       "<Figure size 432x288 with 1 Axes>"
      ]
     },
     "metadata": {
      "needs_background": "light"
     },
     "output_type": "display_data"
    }
   ],
   "source": [
    "ep = [i for i in range(0,201,40)]\n",
    "plt.plot(ep, Acc(ep, '_result/HOTEL_R50/sct_B512_R5_D256_lr0.1_lam1.0/0/'))"
   ]
  },
  {
   "cell_type": "code",
   "execution_count": 9,
   "metadata": {},
   "outputs": [
    {
     "name": "stdout",
     "output_type": "stream",
     "text": [
      "epoch:200\n",
      "Hotel instance retrieval accuracy for _result/HOTEL_R50/sct_B512_R5_D256_lr0.1_lam1.0/0/hotel_results_ep200.csv\n",
      "Top-1: 29.14\n",
      "Top-10: 44.45\n",
      "Top-100: 61.53\n",
      "---\n",
      "Hotel chain retrieval accuracy for _result/HOTEL_R50/sct_B512_R5_D256_lr0.1_lam1.0/0/hotel_results_ep200.csv\n",
      "Top-1: 60.90\n",
      "Top-3: 69.87\n",
      "Top-5: 74.10\n",
      "epoch:200\n",
      "Hotel instance retrieval accuracy for _result/HOTEL_R50/sct_B512_R5_D256_lr0.1_lam1.0/1/hotel_results_ep200.csv\n",
      "Top-1: 29.38\n",
      "Top-10: 44.43\n",
      "Top-100: 61.45\n",
      "---\n",
      "Hotel chain retrieval accuracy for _result/HOTEL_R50/sct_B512_R5_D256_lr0.1_lam1.0/1/hotel_results_ep200.csv\n",
      "Top-1: 60.65\n",
      "Top-3: 70.67\n",
      "Top-5: 74.45\n",
      "epoch:200\n",
      "Hotel instance retrieval accuracy for _result/HOTEL_R50/sct_B512_R5_D256_lr0.1_lam1.0/2/hotel_results_ep200.csv\n",
      "Top-1: 29.20\n",
      "Top-10: 44.25\n",
      "Top-100: 61.62\n",
      "---\n",
      "Hotel chain retrieval accuracy for _result/HOTEL_R50/sct_B512_R5_D256_lr0.1_lam1.0/2/hotel_results_ep200.csv\n",
      "Top-1: 60.79\n",
      "Top-3: 70.62\n",
      "Top-5: 74.50\n"
     ]
    },
    {
     "data": {
      "text/plain": [
       "[29.137026239067055, 29.38192419825073, 29.201166180758015]"
      ]
     },
     "execution_count": 9,
     "metadata": {},
     "output_type": "execute_result"
    }
   ],
   "source": [
    "[Acc([200], '_result/HOTEL_R50/sct_B512_R5_D256_lr0.1_lam1.0/{}/'.format(i))[0] for i in range(3)]"
   ]
  },
  {
   "cell_type": "code",
   "execution_count": 10,
   "metadata": {},
   "outputs": [
    {
     "name": "stdout",
     "output_type": "stream",
     "text": [
      "29.239999771118164 0.12489961087703705\n",
      "44.37666702270508 0.1101517379283905\n",
      "61.533329010009766 0.08504810929298401\n",
      "60.779998779296875 0.1252996176481247\n",
      "70.38666534423828 0.4481428861618042\n",
      "74.3499984741211 0.2179451286792755\n"
     ]
    }
   ],
   "source": [
    "print(torch.Tensor([29.14, 29.38, 29.20]).mean().item(),torch.Tensor([29.14, 29.38, 29.20]).std().item())\n",
    "print(torch.Tensor([44.45, 44.43, 44.25]).mean().item(),torch.Tensor([44.45, 44.43, 44.25]).std().item())\n",
    "print(torch.Tensor([61.53, 61.45, 61.62]).mean().item(),torch.Tensor([61.53, 61.45, 61.62]).std().item())\n",
    "print(torch.Tensor([60.90, 60.65, 60.79]).mean().item(),torch.Tensor([60.90, 60.65, 60.79]).std().item())\n",
    "print(torch.Tensor([69.87, 70.67, 70.62]).mean().item(),torch.Tensor([69.87, 70.67, 70.62]).std().item())\n",
    "print(torch.Tensor([74.10, 74.45, 74.50]).mean().item(),torch.Tensor([74.10, 74.45, 74.50]).std().item())"
   ]
  }
 ],
 "metadata": {
  "kernelspec": {
   "display_name": "Python 3",
   "language": "python",
   "name": "python3"
  },
  "language_info": {
   "codemirror_mode": {
    "name": "ipython",
    "version": 3
   },
   "file_extension": ".py",
   "mimetype": "text/x-python",
   "name": "python",
   "nbconvert_exporter": "python",
   "pygments_lexer": "ipython3",
   "version": "3.7.3"
  }
 },
 "nbformat": 4,
 "nbformat_minor": 2
}
