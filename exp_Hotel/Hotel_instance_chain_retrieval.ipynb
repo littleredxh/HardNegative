{
 "cells": [
  {
   "cell_type": "code",
   "execution_count": 1,
   "metadata": {},
   "outputs": [],
   "source": [
    "import torch,os,csv\n",
    "import sys\n",
    "sys.path.append('evaluate/')\n",
    "from evaluate.retrieval import main\n",
    "import matplotlib.pylab as plt\n",
    "sys.path.append(\"..\")\n",
    "from _code.Reader import ImageReader\n",
    "\n",
    "data_dict = torch.load('data_dict_emb.pth')\n",
    "\n",
    "def Acc(eps, src):\n",
    "    acc = list()\n",
    "    for ep in eps:\n",
    "        print('epoch:'+str(ep))\n",
    "        valdset = ImageReader(data_dict['val']) \n",
    "        tradset = ImageReader(data_dict['tra']) \n",
    "        query_idx = torch.load(src+'{}pre100.pth'.format(ep))\n",
    "\n",
    "        test_id = [os.path.basename(valdset.imgs[i][0])[:-4] for i in range(len(valdset))]\n",
    "        result_id = [[os.path.basename(tradset.imgs[query_idx[i,j].item()][0])[:-4] for j in range(100)] for i in range(len(valdset))]\n",
    "\n",
    "        outfile = os.path.join(src,'hotel_results_ep'+str(ep)+'.csv')\n",
    "        with open(outfile,'w') as csv_file:\n",
    "            for idx in range(len(test_id)):\n",
    "                imId = test_id[idx]\n",
    "                result_im_ids = result_id[idx]\n",
    "                csv_line = str(imId) + ',' + ','.join([str(r) for r in result_im_ids]) +'\\n'\n",
    "                csv_file.writelines(csv_line)\n",
    "\n",
    "        acc.append(main(outfile))\n",
    "        \n",
    "    return acc"
   ]
  },
  {
   "cell_type": "code",
   "execution_count": null,
   "metadata": {},
   "outputs": [],
   "source": [
    "ep = [i for i in range(0,201,40)]\n",
    "plt.plot(ep, Acc(ep, '_result/HOTEL_R50/shn_B512_R5_D256_lr0.1_lam1.0/0/'))\n",
    "plt.title(case)"
   ]
  }
 ],
 "metadata": {
  "kernelspec": {
   "display_name": "Python 3",
   "language": "python",
   "name": "python3"
  },
  "language_info": {
   "codemirror_mode": {
    "name": "ipython",
    "version": 3
   },
   "file_extension": ".py",
   "mimetype": "text/x-python",
   "name": "python",
   "nbconvert_exporter": "python",
   "pygments_lexer": "ipython3",
   "version": "3.7.3"
  }
 },
 "nbformat": 4,
 "nbformat_minor": 2
}
