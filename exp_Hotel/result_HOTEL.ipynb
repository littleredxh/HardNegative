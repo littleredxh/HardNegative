{
 "cells": [
  {
   "cell_type": "code",
   "execution_count": 1,
   "metadata": {},
   "outputs": [],
   "source": [
    "import matplotlib.pylab as plt\n",
    "from tensorboard.backend.event_processing.event_accumulator import EventAccumulator\n",
    "from glob import glob\n",
    "import torch"
   ]
  },
  {
   "cell_type": "markdown",
   "metadata": {},
   "source": [
    "# HOTEL Result"
   ]
  },
  {
   "cell_type": "code",
   "execution_count": 2,
   "metadata": {},
   "outputs": [
    {
     "name": "stdout",
     "output_type": "stream",
     "text": [
      "0.18783284723758698 0.0008086520247161388\n"
     ]
    }
   ],
   "source": [
    "for lr in [0.01]:\n",
    "    A1 = []\n",
    "    for i in range(3):\n",
    "        path = '_result/HOTEL_R50/shn_B512_R5_D256_lr{}_lam1.0/{}/events*'.format(lr,i)\n",
    "        for f in glob(path):\n",
    "            event_acc = EventAccumulator(f)\n",
    "            event_acc.Reload()\n",
    "            _, _, acc = zip(*event_acc.Scalars('HOTEL_test_R_1'))\n",
    "            A1.append(acc[-1])\n",
    "\n",
    "    print(torch.Tensor(A1).mean().item(), torch.Tensor(A1).std().item())"
   ]
  },
  {
   "cell_type": "code",
   "execution_count": 3,
   "metadata": {},
   "outputs": [
    {
     "name": "stdout",
     "output_type": "stream",
     "text": [
      "0.29240038990974426 0.001269925502128899\n"
     ]
    }
   ],
   "source": [
    "for lr in [0.1]:\n",
    "    A1 = []\n",
    "    for i in range(3):\n",
    "        path = '_result/HOTEL_R50/sct_B512_R5_D256_lr{}_lam1.0/{}/events*'.format(lr,i)\n",
    "        for f in glob(path):\n",
    "            event_acc = EventAccumulator(f)\n",
    "            event_acc.Reload()\n",
    "            _, _, acc = zip(*event_acc.Scalars('HOTEL_test_R_1'))\n",
    "            A1.append(acc[-1])\n",
    "    \n",
    "    print(torch.Tensor(A1).mean().item(), torch.Tensor(A1).std().item())"
   ]
  }
 ],
 "metadata": {
  "kernelspec": {
   "display_name": "Python 3",
   "language": "python",
   "name": "python3"
  },
  "language_info": {
   "codemirror_mode": {
    "name": "ipython",
    "version": 3
   },
   "file_extension": ".py",
   "mimetype": "text/x-python",
   "name": "python",
   "nbconvert_exporter": "python",
   "pygments_lexer": "ipython3",
   "version": "3.7.3"
  }
 },
 "nbformat": 4,
 "nbformat_minor": 2
}
