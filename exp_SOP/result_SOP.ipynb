{
 "cells": [
  {
   "cell_type": "code",
   "execution_count": 1,
   "metadata": {},
   "outputs": [],
   "source": [
    "import matplotlib.pylab as plt\n",
    "from tensorboard.backend.event_processing.event_accumulator import EventAccumulator\n",
    "from glob import glob\n",
    "import torch"
   ]
  },
  {
   "cell_type": "markdown",
   "metadata": {},
   "source": [
    "# SOP Result"
   ]
  },
  {
   "cell_type": "code",
   "execution_count": 2,
   "metadata": {},
   "outputs": [
    {
     "name": "stdout",
     "output_type": "stream",
     "text": [
      "0.8106576800346375 0.0006461731973104179\n",
      "0.9232673645019531 0.0007988367578946054\n",
      "0.9684303402900696 0.0005619775620289147\n",
      "0.9890447854995728 0.00017700948228593916\n"
     ]
    }
   ],
   "source": [
    "for lr in [0.01]:\n",
    "    A1, A2, A4, A8 = [], [], [], []\n",
    "    for i in range(5):\n",
    "        path = '_result/SOP_R50/shn_B512_R5_D512_lr{}_lam1.0/{}/events*'.format(lr,i)\n",
    "        for f in glob(path):\n",
    "            event_acc = EventAccumulator(f)\n",
    "            event_acc.Reload()\n",
    "            _, _, acc = zip(*event_acc.Scalars('SOP_test_R_1'))\n",
    "            A1.append(acc[-1])\n",
    "            _, _, acc = zip(*event_acc.Scalars('SOP_test_R_10'))\n",
    "            A2.append(acc[-1])\n",
    "            _, _, acc = zip(*event_acc.Scalars('SOP_test_R_100'))\n",
    "            A4.append(acc[-1])\n",
    "            _, _, acc = zip(*event_acc.Scalars('SOP_test_R_1000'))\n",
    "            A8.append(acc[-1])\n",
    "\n",
    "    print(torch.Tensor(A1).mean().item(), torch.Tensor(A1).std().item())\n",
    "    print(torch.Tensor(A2).mean().item(), torch.Tensor(A2).std().item())\n",
    "    print(torch.Tensor(A4).mean().item(), torch.Tensor(A4).std().item())\n",
    "    print(torch.Tensor(A8).mean().item(), torch.Tensor(A8).std().item())"
   ]
  },
  {
   "cell_type": "code",
   "execution_count": 3,
   "metadata": {},
   "outputs": [
    {
     "name": "stdout",
     "output_type": "stream",
     "text": [
      "0.8190542459487915 0.0007914533489383757\n",
      "0.9261433482170105 0.0006586085655726492\n",
      "0.9677625894546509 0.00044098167563788593\n",
      "0.987596869468689 0.000264360656728968\n"
     ]
    }
   ],
   "source": [
    "for lr in [0.03]:\n",
    "    A1, A2, A4, A8 = [], [], [], []\n",
    "    for i in range(5):\n",
    "        path = '_result/SOP_R50/sct_B512_R5_D512_lr{}_lam1.0/{}/events*'.format(lr,i)\n",
    "        for f in glob(path):\n",
    "            event_acc = EventAccumulator(f)\n",
    "            event_acc.Reload()\n",
    "            _, _, acc = zip(*event_acc.Scalars('SOP_test_R_1'))\n",
    "            A1.append(acc[-1])\n",
    "            _, _, acc = zip(*event_acc.Scalars('SOP_test_R_10'))\n",
    "            A2.append(acc[-1])\n",
    "            _, _, acc = zip(*event_acc.Scalars('SOP_test_R_100'))\n",
    "            A4.append(acc[-1])\n",
    "            _, _, acc = zip(*event_acc.Scalars('SOP_test_R_1000'))\n",
    "            A8.append(acc[-1])\n",
    "    \n",
    "    print(torch.Tensor(A1).mean().item(), torch.Tensor(A1).std().item())\n",
    "    print(torch.Tensor(A2).mean().item(), torch.Tensor(A2).std().item())\n",
    "    print(torch.Tensor(A4).mean().item(), torch.Tensor(A4).std().item())\n",
    "    print(torch.Tensor(A8).mean().item(), torch.Tensor(A8).std().item())"
   ]
  }
 ],
 "metadata": {
  "kernelspec": {
   "display_name": "Python 3",
   "language": "python",
   "name": "python3"
  },
  "language_info": {
   "codemirror_mode": {
    "name": "ipython",
    "version": 3
   },
   "file_extension": ".py",
   "mimetype": "text/x-python",
   "name": "python",
   "nbconvert_exporter": "python",
   "pygments_lexer": "ipython3",
   "version": "3.7.3"
  }
 },
 "nbformat": 4,
 "nbformat_minor": 2
}
