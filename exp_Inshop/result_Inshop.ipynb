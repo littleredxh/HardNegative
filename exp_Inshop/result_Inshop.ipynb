{
 "cells": [
  {
   "cell_type": "code",
   "execution_count": 1,
   "metadata": {},
   "outputs": [],
   "source": [
    "import matplotlib.pylab as plt\n",
    "from tensorboard.backend.event_processing.event_accumulator import EventAccumulator\n",
    "from glob import glob\n",
    "import torch"
   ]
  },
  {
   "cell_type": "markdown",
   "metadata": {},
   "source": [
    "# Inshop Result"
   ]
  },
  {
   "cell_type": "code",
   "execution_count": 2,
   "metadata": {},
   "outputs": [
    {
     "name": "stdout",
     "output_type": "stream",
     "text": [
      "0.905542254447937 0.001562448451295495\n",
      "0.9737516641616821 0.00077270861947909\n",
      "0.9809959530830383 0.001054298598319292\n",
      "0.9845407605171204 0.0008619797881692648\n"
     ]
    }
   ],
   "source": [
    "for lr in [0.3]:\n",
    "    A1, A2, A4, A8 = [], [], [], []\n",
    "    for i in range(5):\n",
    "        path = '_result/ICR_R50/shn_B512_R5_D512_lr{}_lam1.0/{}/events*'.format(lr,i)\n",
    "        for f in glob(path):\n",
    "            event_acc = EventAccumulator(f)\n",
    "            event_acc.Reload()\n",
    "            _, _, acc = zip(*event_acc.Scalars('ICR_test_R_1'))\n",
    "            A1.append(acc[-1])\n",
    "            _, _, acc = zip(*event_acc.Scalars('ICR_test_R_10'))\n",
    "            A2.append(acc[-1])\n",
    "            _, _, acc = zip(*event_acc.Scalars('ICR_test_R_20'))\n",
    "            A4.append(acc[-1])\n",
    "            _, _, acc = zip(*event_acc.Scalars('ICR_test_R_30'))\n",
    "            A8.append(acc[-1])\n",
    "\n",
    "    print(torch.Tensor(A1).mean().item(), torch.Tensor(A1).std().item())\n",
    "    print(torch.Tensor(A2).mean().item(), torch.Tensor(A2).std().item())\n",
    "    print(torch.Tensor(A4).mean().item(), torch.Tensor(A4).std().item())\n",
    "    print(torch.Tensor(A8).mean().item(), torch.Tensor(A8).std().item())"
   ]
  },
  {
   "cell_type": "code",
   "execution_count": 3,
   "metadata": {},
   "outputs": [
    {
     "name": "stdout",
     "output_type": "stream",
     "text": [
      "0.9093402624130249 0.0022168997675180435\n",
      "0.9751864671707153 0.0005700918263755739\n",
      "0.9816991686820984 0.00036681455094367266\n",
      "0.9844985008239746 0.00033950022771023214\n"
     ]
    }
   ],
   "source": [
    "for lr in [0.1]:\n",
    "    A1, A2, A4, A8 = [], [], [], []\n",
    "    for i in range(5):\n",
    "        path = '_result/ICR_R50/sct_B512_R5_D512_lr{}_lam1.0/{}/events*'.format(lr,i)\n",
    "        for f in glob(path):\n",
    "            event_acc = EventAccumulator(f)\n",
    "            event_acc.Reload()\n",
    "            _, _, acc = zip(*event_acc.Scalars('ICR_test_R_1'))\n",
    "            A1.append(acc[-1])\n",
    "            _, _, acc = zip(*event_acc.Scalars('ICR_test_R_10'))\n",
    "            A2.append(acc[-1])\n",
    "            _, _, acc = zip(*event_acc.Scalars('ICR_test_R_20'))\n",
    "            A4.append(acc[-1])\n",
    "            _, _, acc = zip(*event_acc.Scalars('ICR_test_R_30'))\n",
    "            A8.append(acc[-1])\n",
    "    \n",
    "    print(torch.Tensor(A1).mean().item(), torch.Tensor(A1).std().item())\n",
    "    print(torch.Tensor(A2).mean().item(), torch.Tensor(A2).std().item())\n",
    "    print(torch.Tensor(A4).mean().item(), torch.Tensor(A4).std().item())\n",
    "    print(torch.Tensor(A8).mean().item(), torch.Tensor(A8).std().item())"
   ]
  }
 ],
 "metadata": {
  "kernelspec": {
   "display_name": "Python 3",
   "language": "python",
   "name": "python3"
  },
  "language_info": {
   "codemirror_mode": {
    "name": "ipython",
    "version": 3
   },
   "file_extension": ".py",
   "mimetype": "text/x-python",
   "name": "python",
   "nbconvert_exporter": "python",
   "pygments_lexer": "ipython3",
   "version": "3.7.3"
  }
 },
 "nbformat": 4,
 "nbformat_minor": 2
}
